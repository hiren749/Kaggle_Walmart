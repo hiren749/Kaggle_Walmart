{
 "cells": [
  {
   "cell_type": "code",
   "execution_count": null,
   "metadata": {},
   "outputs": [],
   "source": [
    "for param in pdq:\n",
    "    for param_seasonal in seasonal_pdq:\n",
    "        try:\n",
    "            mod = SARIMAX(store_1_train.astype(float).dropna(),\n",
    "                          order=param,\n",
    "                          seasonal_order=param_seasonal)\n",
    "            results = mod.fit()\n",
    "            pred = results.predict(start=store_1_test.index[0], end = store_1_test.index[-1])\n",
    "            \n",
    "            aic_hist.append(results.aic)\n",
    "            rsme_hist.append(np.sqrt(mean_squared_error(store_1_test, pred)))\n",
    "            \n",
    "            if np.sqrt(mean_squared_error(store_1_test, pred)) < final_rmse:\n",
    "                final_rmse = np.sqrt(mean_squared_error(store_1_test, pred))\n",
    "                final_param.append([param, param_seasonal])\n",
    "            \n",
    "            print('ARIMA{}x{} - AIC:{:.2f}'.format(param,param_seasonal,results.aic))\n",
    "        except: \n",
    "            continue"
   ]
  },
  {
   "cell_type": "code",
   "execution_count": null,
   "metadata": {},
   "outputs": [],
   "source": [
    "for param in pdq:\n",
    "    for param_seasonal in seasonal_pdq:\n",
    "        try:\n",
    "            mod = SARIMAX(store_1_train.astype(float).dropna(),\n",
    "                          order=param,\n",
    "                          seasonal_order=param_seasonal)\n",
    "            results = mod.fit()\n",
    "            pred = results.predict(start=store_1_test.index[0], end = store_1_test.index[-1])\n",
    "                       \n",
    "            if np.sqrt(mean_squared_error(store_1_test, pred)) < final_rmse:\n",
    "                final_rmse = np.sqrt(mean_squared_error(store_1_test, pred))\n",
    "                final_param.append([param, param_seasonal])\n",
    "            \n",
    "            print('ARIMA{}x{} - AIC:{:.2f}'.format(param,param_seasonal,results.aic))\n",
    "        except: \n",
    "            continue"
   ]
  }
 ],
 "metadata": {
  "kernelspec": {
   "display_name": "Python 3",
   "language": "python",
   "name": "python3"
  },
  "language_info": {
   "codemirror_mode": {
    "name": "ipython",
    "version": 3
   },
   "file_extension": ".py",
   "mimetype": "text/x-python",
   "name": "python",
   "nbconvert_exporter": "python",
   "pygments_lexer": "ipython3",
   "version": "3.7.6"
  }
 },
 "nbformat": 4,
 "nbformat_minor": 4
}
